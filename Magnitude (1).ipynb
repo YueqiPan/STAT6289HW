{
  "nbformat": 4,
  "nbformat_minor": 0,
  "metadata": {
    "colab": {
      "name": "Magnitude.ipynb",
      "provenance": [],
      "collapsed_sections": []
    },
    "kernelspec": {
      "name": "python3",
      "display_name": "Python 3"
    }
  },
  "cells": [
    {
      "cell_type": "code",
      "metadata": {
        "id": "kPxYsq_W730e",
        "colab": {
          "base_uri": "https://localhost:8080/"
        },
        "outputId": "608d9dc3-fe5d-41e7-d716-955dd14bbe5f"
      },
      "source": [
        "! echo \"Installing Magnitude.... (please wait, can take a while)\"\n",
        "! (curl https://raw.githubusercontent.com/plasticityai/magnitude/master/install-colab.sh | /bin/bash 1>/dev/null 2>/dev/null)\n",
        "! echo \"Done installing Magnitude.\""
      ],
      "execution_count": 1,
      "outputs": [
        {
          "output_type": "stream",
          "text": [
            "Installing Magnitude.... (please wait, can take a while)\n",
            "  % Total    % Received % Xferd  Average Speed   Time    Time     Time  Current\n",
            "                                 Dload  Upload   Total   Spent    Left  Speed\n",
            "100   137  100   137    0     0    145      0 --:--:-- --:--:-- --:--:--   145\n",
            "Done installing Magnitude.\n"
          ],
          "name": "stdout"
        }
      ]
    },
    {
      "cell_type": "code",
      "metadata": {
        "id": "Mn6yzlwL8hJY"
      },
      "source": [
        "from pymagnitude import *\n",
        "\n",
        "file_path = \"/content/drive/MyDrive/GoogleNews-vectors-negative300.magnitude\"\n",
        "vectors = Magnitude(file_path)"
      ],
      "execution_count": 5,
      "outputs": []
    },
    {
      "cell_type": "code",
      "metadata": {
        "id": "CzndgdGZ-Jim",
        "colab": {
          "base_uri": "https://localhost:8080/"
        },
        "outputId": "784bfa00-4ee1-4be2-ac92-581fa2ffa041"
      },
      "source": [
        "#What is the dimensionality of these word embeddings?\n",
        "print(vectors.dim)"
      ],
      "execution_count": 6,
      "outputs": [
        {
          "output_type": "stream",
          "text": [
            "300\n"
          ],
          "name": "stdout"
        }
      ]
    },
    {
      "cell_type": "code",
      "metadata": {
        "id": "D8ScxK4y-P9Z",
        "colab": {
          "base_uri": "https://localhost:8080/"
        },
        "outputId": "858822aa-e730-4aaa-9fbb-fe1a8c257e5c"
      },
      "source": [
        "#What are the top-5 most similar words to picnic (not including picnic itself)?\n",
        "vectors.most_similar(\"picnic\", topn = 6) # Most similar by key\n",
        "vectors.most_similar(vectors.query(\"picnic\"), topn = 6) # Most similar by vector\n"
      ],
      "execution_count": 8,
      "outputs": [
        {
          "output_type": "execute_result",
          "data": {
            "text/plain": [
              "[('picnic', 0.9999998),\n",
              " ('picnics', 0.7400875),\n",
              " ('picnic_lunch', 0.721374),\n",
              " ('Picnic', 0.700534),\n",
              " ('potluck_picnic', 0.6683274),\n",
              " ('picnic_supper', 0.65189123)]"
            ]
          },
          "metadata": {
            "tags": []
          },
          "execution_count": 8
        }
      ]
    },
    {
      "cell_type": "code",
      "metadata": {
        "id": "Y8Bslnrv-j_e",
        "colab": {
          "base_uri": "https://localhost:8080/",
          "height": 35
        },
        "outputId": "32422166-1c10-4f80-a4e0-56d392a9d9ab"
      },
      "source": [
        "#According to the word embeddings, which of these words is not like the others? ['tissue', 'papyrus', 'manila', 'newsprint', 'parchment', 'gazette']\n",
        "vectors.doesnt_match([\"tissue\", \"papyrus\", \"manila\", \"newsprint\", \"parchment\", \"gazette\"]) "
      ],
      "execution_count": null,
      "outputs": [
        {
          "output_type": "execute_result",
          "data": {
            "application/vnd.google.colaboratory.intrinsic+json": {
              "type": "string"
            },
            "text/plain": [
              "'tissue'"
            ]
          },
          "metadata": {
            "tags": []
          },
          "execution_count": 16
        }
      ]
    },
    {
      "cell_type": "code",
      "metadata": {
        "id": "QEwL8EIoABwU",
        "colab": {
          "base_uri": "https://localhost:8080/"
        },
        "outputId": "f719d100-0bc0-47e5-eab4-ce02816dbbb2"
      },
      "source": [
        "#Solve the following analogy: leg is to jump as X is to throw\n",
        "vectors.most_similar(positive = [\"jump\", \"leg\"], negative = [\"throw\"]) # queen"
      ],
      "execution_count": 10,
      "outputs": [
        {
          "output_type": "execute_result",
          "data": {
            "text/plain": [
              "[('legs', 0.45747823),\n",
              " ('thigh', 0.4567529),\n",
              " ('cervical_vertebra', 0.42476428),\n",
              " ('vertabra', 0.4221363),\n",
              " ('fibula', 0.42016602),\n",
              " ('pelvis', 0.41983044),\n",
              " ('achilles_tendon', 0.41773537),\n",
              " ('thoracic_vertebra', 0.4140833),\n",
              " ('ankle', 0.40969262),\n",
              " ('C7_vertebra', 0.40824115)]"
            ]
          },
          "metadata": {
            "tags": []
          },
          "execution_count": 10
        }
      ]
    },
    {
      "cell_type": "code",
      "metadata": {
        "colab": {
          "base_uri": "https://localhost:8080/"
        },
        "id": "onARbvlTVA1-",
        "outputId": "53e1de32-0b31-4572-eef8-3b5b7793b8d2"
      },
      "source": [
        "vectors.most_similar_cosmul(positive = [\"jump\", \"leg\"], negative = [\"throw\"])"
      ],
      "execution_count": 13,
      "outputs": [
        {
          "output_type": "execute_result",
          "data": {
            "text/plain": [
              "[('legs', 0.85058904),\n",
              " ('thigh', 0.84816045),\n",
              " ('cervical_vertebra', 0.8436952),\n",
              " ('vertabra', 0.84359306),\n",
              " ('thoracic_vertebra', 0.84038955),\n",
              " ('achilles_tendon', 0.836431),\n",
              " ('pelvis', 0.83547205),\n",
              " ('deep_shin_bruise', 0.83506364),\n",
              " ('Matthias_Lanzinger', 0.8311217),\n",
              " ('Virtue_underwent_surgery', 0.82802796)]"
            ]
          },
          "metadata": {
            "tags": []
          },
          "execution_count": 13
        }
      ]
    }
  ]
}